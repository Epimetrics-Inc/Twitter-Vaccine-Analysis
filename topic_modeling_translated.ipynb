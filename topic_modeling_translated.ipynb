{
 "cells": [
  {
   "cell_type": "code",
   "execution_count": 6,
   "metadata": {},
   "outputs": [
    {
     "name": "stdout",
     "output_type": "stream",
     "text": [
      "Populating the interactive namespace from numpy and matplotlib\n"
     ]
    },
    {
     "name": "stderr",
     "output_type": "stream",
     "text": [
      "C:\\Users\\PC\\.conda\\envs\\twitter-vaccine\\lib\\site-packages\\IPython\\core\\magics\\pylab.py:160: UserWarning:\n",
      "\n",
      "pylab import has clobbered these variables: ['text']\n",
      "`%matplotlib` prevents importing * from pylab and numpy\n",
      "\n"
     ]
    }
   ],
   "source": [
    "%pylab inline\n",
    "import os\n",
    "import pickle\n",
    "import json\n",
    "import pandas as pd\n",
    "from plotly import express as px\n",
    "from sklearn.feature_extraction.text import TfidfVectorizer\n",
    "from sklearn.feature_extraction import text\n",
    "from sklearn.decomposition import NMF, LatentDirichletAllocation\n",
    "from sklearn.feature_extraction.text import TfidfTransformer, CountVectorizer\n",
    "from sklearn.pipeline import Pipeline\n",
    "from sklearn.feature_extraction.stop_words import ENGLISH_STOP_WORDS\n",
    "import scattertext as st"
   ]
  },
  {
   "cell_type": "code",
   "execution_count": 7,
   "metadata": {},
   "outputs": [],
   "source": [
    "df = pd.read_pickle('translated_tweets.pkl')\n",
    "df['translated_text'] = df['translated_text'].apply(lambda x: x['translatedText'])"
   ]
  },
  {
   "cell_type": "code",
   "execution_count": 8,
   "metadata": {},
   "outputs": [],
   "source": [
    "additional_stopwords = ['na', 'https', 'ha', 'hahaha', 'haha', 'lang', 'ang', 'yan', 'ng', 'sa', 'rin', 'yun', 'yang', 'si', 'ako', 'siya', 'ka', 'po', \n",
    "                        'mga', 'yung', 'pa', 'pala', 'na', 'ni', 'sya', 'ba', 'ko', 'nyo', 'man']\n",
    "additional_stopwords = set(list(ENGLISH_STOP_WORDS) + additional_stopwords)"
   ]
  },
  {
   "cell_type": "code",
   "execution_count": 9,
   "metadata": {},
   "outputs": [],
   "source": [
    "df['created_at_date'] = pd.to_datetime(df['created_at_date'])\n",
    "df['YEAR'] = df['created_at_date'].dt.year\n",
    "df['MONTH'] = df['created_at_date'].dt.month\n",
    "df['DAY'] = df['created_at_date'].dt.day"
   ]
  },
  {
   "cell_type": "code",
   "execution_count": 10,
   "metadata": {
    "scrolled": true
   },
   "outputs": [
    {
     "name": "stdout",
     "output_type": "stream",
     "text": [
      "(2,)\n",
      "dengvaxia 2015\n"
     ]
    },
    {
     "ename": "NameError",
     "evalue": "name 'pyLDAvis' is not defined",
     "output_type": "error",
     "traceback": [
      "\u001b[1;31m---------------------------------------------------------------------------\u001b[0m",
      "\u001b[1;31mNameError\u001b[0m                                 Traceback (most recent call last)",
      "\u001b[1;32m<ipython-input-10-af93e985bcb9>\u001b[0m in \u001b[0;36m<module>\u001b[1;34m\u001b[0m\n\u001b[0;32m     16\u001b[0m         \u001b[0mlda_tf\u001b[0m\u001b[1;33m.\u001b[0m\u001b[0mfit\u001b[0m\u001b[1;33m(\u001b[0m\u001b[0mdtm_tf\u001b[0m\u001b[1;33m)\u001b[0m\u001b[1;33m\u001b[0m\u001b[1;33m\u001b[0m\u001b[0m\n\u001b[0;32m     17\u001b[0m         \u001b[0mprint\u001b[0m\u001b[1;33m(\u001b[0m\u001b[0mkeyword\u001b[0m\u001b[1;33m,\u001b[0m \u001b[0mi\u001b[0m\u001b[1;33m)\u001b[0m\u001b[1;33m\u001b[0m\u001b[1;33m\u001b[0m\u001b[0m\n\u001b[1;32m---> 18\u001b[1;33m         \u001b[0mp\u001b[0m \u001b[1;33m=\u001b[0m \u001b[0mpyLDAvis\u001b[0m\u001b[1;33m.\u001b[0m\u001b[0msklearn\u001b[0m\u001b[1;33m.\u001b[0m\u001b[0mprepare\u001b[0m\u001b[1;33m(\u001b[0m\u001b[0mlda_tf\u001b[0m\u001b[1;33m,\u001b[0m \u001b[0mdtm_tf\u001b[0m\u001b[1;33m,\u001b[0m \u001b[0mtf_vectorizer\u001b[0m\u001b[1;33m)\u001b[0m\u001b[1;33m\u001b[0m\u001b[1;33m\u001b[0m\u001b[0m\n\u001b[0m\u001b[0;32m     19\u001b[0m         \u001b[1;32mtry\u001b[0m\u001b[1;33m:\u001b[0m\u001b[1;33m\u001b[0m\u001b[1;33m\u001b[0m\u001b[0m\n\u001b[0;32m     20\u001b[0m             \u001b[0mpyLDAvis\u001b[0m\u001b[1;33m.\u001b[0m\u001b[0msave_html\u001b[0m\u001b[1;33m(\u001b[0m\u001b[0mp\u001b[0m\u001b[1;33m,\u001b[0m \u001b[1;34mf'plots/ldavis/monthly/{i}-{keyword} - pcoa.html'\u001b[0m\u001b[1;33m)\u001b[0m\u001b[1;33m\u001b[0m\u001b[1;33m\u001b[0m\u001b[0m\n",
      "\u001b[1;31mNameError\u001b[0m: name 'pyLDAvis' is not defined"
     ]
    }
   ],
   "source": [
    "for i, tmp in df.sort_values(['YEAR']).groupby(['YEAR']):\n",
    "    for keyword in ['dengvaxia', 'vacci', 'dengue']:\n",
    "        if keyword == 'vacci':\n",
    "            txt = tmp[(tmp['full_text'].str.lower().str.contains('vacci')) | (tmp['full_text'].str.lower().str.contains('bakun'))].copy()\n",
    "        else:\n",
    "            txt = tmp[(tmp['full_text'].str.lower().str.contains(keyword))]\n",
    "        if txt.shape[0] <= 0:\n",
    "            continue\n",
    "        tf_vectorizer = CountVectorizer(strip_accents = 'unicode',\n",
    "                                    stop_words = additional_stopwords,\n",
    "                                    ngram_range=(1,4), \n",
    "                                    lowercase = True, max_df=0.9)\n",
    "        print(txt['full_text'].shape)\n",
    "        dtm_tf = tf_vectorizer.fit_transform(txt['full_text'].str.lower().str.replace('dengue', '').str.replace('vaccine', '').str.replace('dengvaxia', '').str.replace('bakuna', ''))\n",
    "        lda_tf = LatentDirichletAllocation(n_components=5, random_state=0)\n",
    "        lda_tf.fit(dtm_tf)\n",
    "        print(keyword, i)\n",
    "        p = pyLDAvis.sklearn.prepare(lda_tf, dtm_tf, tf_vectorizer)\n",
    "        try:\n",
    "            pyLDAvis.save_html(p, f'plots/ldavis/monthly/{i}-{keyword} - pcoa.html')\n",
    "        except:\n",
    "            pass"
   ]
  },
  {
   "cell_type": "code",
   "execution_count": 5,
   "metadata": {},
   "outputs": [
    {
     "name": "stdout",
     "output_type": "stream",
     "text": [
      "2015\n",
      "dengvax\n",
      "vacci\n",
      "dengue\n",
      "2016\n",
      "dengvax\n",
      "vacci\n",
      "dengue\n",
      "2017\n",
      "dengvax\n",
      "vacci\n",
      "dengue\n",
      "2018\n",
      "dengvax\n",
      "vacci\n",
      "dengue\n",
      "2019\n",
      "dengvax\n",
      "vacci\n",
      "dengue\n"
     ]
    }
   ],
   "source": [
    "\n",
    "for i, tmp in df.sort_values(['YEAR', 'MONTH']).groupby(['YEAR']):\n",
    "    print(i)\n",
    "    keywords = ['dengvax', 'vacci', 'dengue']\n",
    "    for word in keywords:\n",
    "        print(word)\n",
    "        if word == 'vacci':\n",
    "\n",
    "            tmp2 = tmp[(tmp['translated_text'].str.lower().str.contains('vacci')) | (tmp['translated_text'].str.lower().str.contains('bakuna'))].copy()\n",
    "        else:\n",
    "            tmp2 = tmp[tmp['translated_text'].str.lower().str.contains(word)].copy()\n",
    "        tmp2['keyword'] = word\n",
    "        tmp3 = tmp[~tmp['translated_text'].str.lower().str.contains(word)].copy()\n",
    "        tmp3['keyword'] = 'not ' + word\n",
    "        tmp = tmp2.append(tmp3)\n",
    "        tmp['translated_text'] = tmp['translated_text'].str.lower()\n",
    "        tmp['parse'] = tmp['translated_text'].apply(st.whitespace_nlp_with_sentences)\n",
    "\n",
    "        try:\n",
    "            unigram_corpus = (st.CorpusFromParsedDocuments(tmp,\n",
    "                                                       category_col='keyword',\n",
    "                                                       parsed_col='parse')\n",
    "                          .build().remove_terms(additional_stopwords, ignore_absences=True).get_stoplisted_unigram_corpus())\n",
    "        except:\n",
    "            continue\n",
    "        topic_model_nmf = st.SentencesForTopicModeling(unigram_corpus).get_topics_from_model(\n",
    "            Pipeline([\n",
    "                ('tfidf', TfidfTransformer(sublinear_tf=True)),\n",
    "                ('nmf', (NMF(n_components=100, alpha=.1, l1_ratio=.5, random_state=0)))\n",
    "            ]),\n",
    "            num_terms_per_topic=20\n",
    "        )\n",
    "\n",
    "        topic_feature_builder_nmf = st.FeatsFromTopicModel(topic_model_nmf)\n",
    "\n",
    "        topic_corpus_nmf = st.CorpusFromParsedDocuments(\n",
    "            tmp,\n",
    "            category_col='keyword',\n",
    "            parsed_col='parse',\n",
    "            feats_from_spacy_doc=topic_feature_builder_nmf\n",
    "        ).build()\n",
    "        \n",
    "        try:\n",
    "            html = st.produce_scattertext_explorer(\n",
    "                topic_corpus_nmf,\n",
    "                category=word,\n",
    "                width_in_pixels=1000,\n",
    "                use_non_text_features=True,\n",
    "                use_full_doc=True,\n",
    "                pmi_threshold_coefficient=0,\n",
    "                topic_model_term_lists=topic_feature_builder_nmf.get_top_model_term_lists(),\n",
    "                topic_model_preview_size=20\n",
    "            )\n",
    "            with open(f'plots/scattertext/by_term/translated/{i}_{word} - NMF Topic Model.html', 'w') as f:\n",
    "                f.write(html)\n",
    "        except:\n",
    "            continue"
   ]
  },
  {
   "cell_type": "code",
   "execution_count": null,
   "metadata": {},
   "outputs": [],
   "source": []
  }
 ],
 "metadata": {
  "kernelspec": {
   "display_name": "Python 3",
   "language": "python",
   "name": "python3"
  },
  "language_info": {
   "codemirror_mode": {
    "name": "ipython",
    "version": 3
   },
   "file_extension": ".py",
   "mimetype": "text/x-python",
   "name": "python",
   "nbconvert_exporter": "python",
   "pygments_lexer": "ipython3",
   "version": "3.7.4"
  }
 },
 "nbformat": 4,
 "nbformat_minor": 4
}
