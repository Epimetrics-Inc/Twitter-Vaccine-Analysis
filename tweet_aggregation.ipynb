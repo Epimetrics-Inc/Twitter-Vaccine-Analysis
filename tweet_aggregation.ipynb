{
 "cells": [
  {
   "cell_type": "code",
   "execution_count": 1,
   "metadata": {},
   "outputs": [
    {
     "name": "stdout",
     "output_type": "stream",
     "text": [
      "Populating the interactive namespace from numpy and matplotlib\n"
     ]
    }
   ],
   "source": [
    "%pylab inline\n",
    "import os\n",
    "import pickle\n",
    "import json\n",
    "import pandas as pd\n",
    "from plotly import express as px\n",
    "from sklearn.feature_extraction.text import TfidfVectorizer\n",
    "from sklearn.feature_extraction import text \n",
    "from wordcloud import WordCloud\n",
    "from google.cloud import translate\n"
   ]
  },
  {
   "cell_type": "code",
   "execution_count": 2,
   "metadata": {},
   "outputs": [],
   "source": [
    "dirname, _, files = next(os.walk('data/'))"
   ]
  },
  {
   "cell_type": "code",
   "execution_count": 3,
   "metadata": {},
   "outputs": [],
   "source": [
    "results = []\n",
    "for f in files:\n",
    "    with open(f\"{dirname}{f}\", 'rb') as file:\n",
    "        tmp = pickle.load(file)\n",
    "    if type(tmp) == list:\n",
    "        results += tmp\n",
    "    else:\n",
    "        results.append(tmp)\n",
    "results = [r for r in results if 'timePeriod' not in r.keys()]\n"
   ]
  },
  {
   "cell_type": "code",
   "execution_count": 4,
   "metadata": {
    "scrolled": true
   },
   "outputs": [],
   "source": [
    "set_of_jsons = {json.dumps(d, sort_keys=True) for d in results}\n",
    "X = [json.loads(t) for t in set_of_jsons]"
   ]
  },
  {
   "cell_type": "code",
   "execution_count": 5,
   "metadata": {},
   "outputs": [
    {
     "data": {
      "text/plain": [
       "14923"
      ]
     },
     "execution_count": 5,
     "metadata": {},
     "output_type": "execute_result"
    }
   ],
   "source": [
    "len(X)"
   ]
  },
  {
   "cell_type": "code",
   "execution_count": 6,
   "metadata": {},
   "outputs": [],
   "source": [
    "df = pd.DataFrame(X)"
   ]
  },
  {
   "cell_type": "code",
   "execution_count": 7,
   "metadata": {},
   "outputs": [],
   "source": [
    "df['created_at'] = pd.to_datetime(df['created_at'])"
   ]
  },
  {
   "cell_type": "code",
   "execution_count": 8,
   "metadata": {},
   "outputs": [],
   "source": [
    "df['created_at_date'] = df['created_at'].dt.date"
   ]
  },
  {
   "cell_type": "code",
   "execution_count": 9,
   "metadata": {},
   "outputs": [],
   "source": [
    "df['full_text'] = df['extended_tweet'].apply(lambda x: None if type(x) == float else x['full_text']).fillna(df['text'])"
   ]
  },
  {
   "cell_type": "code",
   "execution_count": 10,
   "metadata": {},
   "outputs": [],
   "source": [
    "keywords = ['dengvaxia', 'vaccine', 'bakuna', 'vax', 'dengue', 'anti vax', 'vaccination',]"
   ]
  },
  {
   "cell_type": "code",
   "execution_count": 11,
   "metadata": {},
   "outputs": [],
   "source": [
    "tmp = pd.DataFrame()\n",
    "for word in keywords:\n",
    "    tmp2 = df[df['full_text'].str.lower().str.contains(word)].copy()\n",
    "    tmp2['keyword'] = word\n",
    "    tmp = tmp.append(tmp2)"
   ]
  },
  {
   "cell_type": "code",
   "execution_count": 12,
   "metadata": {},
   "outputs": [],
   "source": [
    "fig = px.line(\n",
    "    tmp.groupby(['keyword','created_at_date']).count()['text'].reset_index(\n",
    "    ).rename({'text': 'tweet_count', 'created_at_date': 'date'}, axis=1), \n",
    "    x='date', y='tweet_count', color='keyword',\n",
    "title=f'Tweet activity by Search Term')\n",
    "with open('plots/tweet_activity_by_search_term.html', 'w') as f:\n",
    "    f.write(fig.to_html())"
   ]
  },
  {
   "cell_type": "code",
   "execution_count": 13,
   "metadata": {},
   "outputs": [],
   "source": [
    "stop_words = text.ENGLISH_STOP_WORDS.union(['https', 'co', 'to', 'sa','at','na','ang','ng','mga','ko','ay','ako','lang','hindi','di','pa','mo','may','kung','ni','naman','si','ka','ito','yung','ung','para','isa',\"isa't\",'nga','ba','pero','siya','niya','nya','rin','din','kaya','o','kasi','kase','dahil','wala','nang','lahat','nila','sila','kami','talaga','ngayon','ano','anu-ano','alam','pô','eh','iyon','yon','yun','kahit','dito','namin','kaniya','kanya','tao',])"
   ]
  },
  {
   "cell_type": "code",
   "execution_count": null,
   "metadata": {},
   "outputs": [],
   "source": [
    "dates = sorted(set([(y, m) for m, y in zip(df['created_at'].dt.month, df['created_at'].dt.year)]))\n",
    "for y, m in dates:\n",
    "    wc = WordCloud(stopwords=stop_words, background_color='white', width=1000, height=800, random_state=42).generate(' '.join(df[(df['created_at'].dt.month == m) & (df['created_at'].dt.year == y)]['full_text'].values.flatten()))\n",
    "    figsize(20, 20)\n",
    "    plt.imshow(wc, interpolation=\"bilinear\")\n",
    "    plt.axis(\"off\")\n",
    "    plt.title(f'{y} - {m} - Word Cloud')\n",
    "    plt.savefig(f'plots/{y} - {m} - Word Cloud.png', bbox_inches='tight')"
   ]
  },
  {
   "cell_type": "code",
   "execution_count": 13,
   "metadata": {},
   "outputs": [
    {
     "data": {
      "text/plain": [
       "1562316"
      ]
     },
     "execution_count": 13,
     "metadata": {},
     "output_type": "execute_result"
    }
   ],
   "source": [
    "len(\" \".join(df['full_text'].values))"
   ]
  },
  {
   "cell_type": "code",
   "execution_count": 14,
   "metadata": {},
   "outputs": [],
   "source": [
    "# Instantiates a client\n",
    "translate_client = translate.Client.from_service_account_json('twitter-vaccine-59bc3f2229fe.json')\n"
   ]
  },
  {
   "cell_type": "code",
   "execution_count": null,
   "metadata": {
    "scrolled": true
   },
   "outputs": [],
   "source": [
    "res = []\n",
    "for text in df['full_text']:\n",
    "    # The target language\n",
    "    target = 'en'\n",
    "    print(f\"translating: {text.encode('ascii', errors='ignore').decode()}\")\n",
    "    \n",
    "    # Translates some text into Russian\n",
    "    translation = translate_client.translate(\n",
    "        text.encode(\"ascii\", errors=\"ignore\").decode().replace(', ', ' '),\n",
    "        target_language=target, source_language='tl')\n",
    "    \n",
    "    res.append(translation)\n",
    "    print(f\"Result: {translation}\")"
   ]
  },
  {
   "cell_type": "code",
   "execution_count": 25,
   "metadata": {},
   "outputs": [
    {
     "data": {
      "text/plain": [
       "14923"
      ]
     },
     "execution_count": 25,
     "metadata": {},
     "output_type": "execute_result"
    }
   ],
   "source": [
    "len(res)"
   ]
  },
  {
   "cell_type": "code",
   "execution_count": 26,
   "metadata": {},
   "outputs": [],
   "source": [
    "df['translated_text'] = res"
   ]
  },
  {
   "cell_type": "code",
   "execution_count": 27,
   "metadata": {},
   "outputs": [],
   "source": [
    "df.to_pickle('translated_tweets.pkl')"
   ]
  },
  {
   "cell_type": "code",
   "execution_count": null,
   "metadata": {},
   "outputs": [],
   "source": []
  }
 ],
 "metadata": {
  "kernelspec": {
   "display_name": "Python 3",
   "language": "python",
   "name": "python3"
  },
  "language_info": {
   "codemirror_mode": {
    "name": "ipython",
    "version": 3
   },
   "file_extension": ".py",
   "mimetype": "text/x-python",
   "name": "python",
   "nbconvert_exporter": "python",
   "pygments_lexer": "ipython3",
   "version": "3.6.9"
  }
 },
 "nbformat": 4,
 "nbformat_minor": 4
}
